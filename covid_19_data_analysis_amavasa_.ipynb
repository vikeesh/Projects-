{
  "nbformat": 4,
  "nbformat_minor": 0,
  "metadata": {
    "colab": {
      "name": "covid-19 data analysis amavasa .ipynb",
      "provenance": []
    },
    "kernelspec": {
      "name": "python3",
      "display_name": "Python 3"
    },
    "language_info": {
      "name": "python"
    }
  },
  "cells": [
    {
      "cell_type": "markdown",
      "source": [
        "# **CLUSTERING ANALYSIS OF COVID-19 CASES STATEWISE IN INDIA**"
      ],
      "metadata": {
        "id": "NJ0hZ72HUG7w"
      }
    },
    {
      "cell_type": "markdown",
      "source": [
        "# Importing the dataset and mounting it on the Drive"
      ],
      "metadata": {
        "id": "nF5oCi1p02r8"
      }
    },
    {
      "cell_type": "code",
      "source": [
        "#import the libraries\n",
        "import numpy as np\n",
        "import matplotlib.pyplot as plt\n",
        "import pandas as pd"
      ],
      "metadata": {
        "id": "GCcH0jZAUZBH"
      },
      "execution_count": null,
      "outputs": []
    },
    {
      "cell_type": "code",
      "source": [
        "from google.colab import drive\n",
        "drive.mount('/content/drive')\n",
        "\n",
        "df = pd.read_csv('/content/drive/MyDrive/ML/Latest Covid-19 India Status.csv')"
      ],
      "metadata": {
        "colab": {
          "base_uri": "https://localhost:8080/"
        },
        "id": "2OoyJWIW9Qkl",
        "outputId": "f656c794-90a7-4a05-bfb4-5e7f8db0922f"
      },
      "execution_count": null,
      "outputs": [
        {
          "output_type": "stream",
          "name": "stdout",
          "text": [
            "Mounted at /content/drive\n"
          ]
        }
      ]
    },
    {
      "cell_type": "markdown",
      "source": [
        "# Taking X = Total Cases and Y = Population"
      ],
      "metadata": {
        "id": "I3_Gvh3w0m-2"
      }
    },
    {
      "cell_type": "code",
      "source": [
        "#import the dataset\n",
        "x = df.iloc[ : , [1,8]].values\n",
        "print(x)"
      ],
      "metadata": {
        "colab": {
          "base_uri": "https://localhost:8080/"
        },
        "id": "QOYWqL8f09Sp",
        "outputId": "5960f042-bfaa-453a-e3ba-9e59d3d90188"
      },
      "execution_count": null,
      "outputs": [
        {
          "output_type": "stream",
          "name": "stdout",
          "text": [
            "[[     9974    399001]\n",
            " [  2312029  91702478]\n",
            " [    63982   1711947]\n",
            " [   723416  35998752]\n",
            " [   828758 128500364]\n",
            " [    91296   1158040]\n",
            " [  1145694  32199722]\n",
            " [    11425    773997]\n",
            " [  1850516  19301096]\n",
            " [   244041   1521992]\n",
            " [  1214016  70400153]\n",
            " [   972684  28900667]\n",
            " [   280106   7503010]\n",
            " [   450331  14999397]\n",
            " [   433134  40100376]\n",
            " [  3924297  69599762]\n",
            " [  6396247  34698876]\n",
            " [    27400    290492]\n",
            " [    11296     66001]\n",
            " [  1023799  85002417]\n",
            " [  7839447 124904071]\n",
            " [   135748   3436948]\n",
            " [    92933   3772103]\n",
            " [   196420   1308967]\n",
            " [    35173   2073074]\n",
            " [  1276114  47099270]\n",
            " [   165152   1646050]\n",
            " [   755234  30501026]\n",
            " [  1263606  79502477]\n",
            " [    38927    658019]\n",
            " [  3433966  83697770]\n",
            " [   783019  38157311]\n",
            " [   100790   4184959]\n",
            " [  2056741 231502578]\n",
            " [   433321  11700099]\n",
            " [  2010389 100896618]]\n"
          ]
        }
      ]
    },
    {
      "cell_type": "code",
      "source": [
        "#using a dendrogram to find the optimal number of clusters\n",
        "import scipy.cluster.hierarchy as sch\n",
        "dendrogram = sch.dendrogram(sch.linkage(x, method ='ward'))"
      ],
      "metadata": {
        "colab": {
          "base_uri": "https://localhost:8080/",
          "height": 280
        },
        "id": "S7CwdzYlDRKR",
        "outputId": "9bbc7ed5-2a54-4743-e667-f683efa4b0a7"
      },
      "execution_count": null,
      "outputs": [
        {
          "output_type": "display_data",
          "data": {
            "image/png": "[encoded data removed]",
            "text/plain": [
              "<Figure size 432x288 with 1 Axes>"
            ]
          },
          "metadata": {
            "needs_background": "light"
          }
        }
      ]
    },
    {
      "cell_type": "code",
      "source": [
        "#fitting the hierarchical clustering into the dataset\n",
        "from sklearn.cluster import AgglomerativeClustering\n",
        "hc = AgglomerativeClustering(n_clusters = 3, affinity = 'euclidean', linkage = 'ward')\n",
        "y_hc = hc.fit_predict(x)\n",
        "print(y_hc)"
      ],
      "metadata": {
        "colab": {
          "base_uri": "https://localhost:8080/"
        },
        "id": "zcH76l8sEcRe",
        "outputId": "e1941cd3-e851-43a0-ea71-61a15783bf66"
      },
      "execution_count": null,
      "outputs": [
        {
          "output_type": "stream",
          "name": "stdout",
          "text": [
            "[0 1 0 0 1 0 0 0 0 0 1 0 0 0 0 1 0 0 0 1 1 0 0 0 0 0 0 0 1 0 1 0 0 2 0 1]\n"
          ]
        }
      ]
    },
    {
      "cell_type": "code",
      "source": [
        "plt.scatter(x[y_hc == 0,0],x[y_hc == 0,1], s=100, c = 'red', label = 'Cluster 1' )\n",
        "plt.scatter(x[y_hc == 1,0],x[y_hc == 1,1], s=100, c = 'blue', label = 'Cluster 2' )\n",
        "plt.scatter(x[y_hc == 2,0],x[y_hc == 2,1], s=100, c = 'green', label = 'Cluster 3' )\n",
        "\n",
        "\n",
        "plt.title('Cluster of COVID-19 affected population in India')\n",
        "plt.xlabel('Total cases')\n",
        "plt.ylabel('Population')\n",
        "plt.legend()\n",
        "plt.show()"
      ],
      "metadata": {
        "colab": {
          "base_uri": "https://localhost:8080/",
          "height": 295
        },
        "id": "M0r16DiNFmCV",
        "outputId": "c7395f5c-be95-4ce0-aa6d-ba07bd2ae11c"
      },
      "execution_count": null,
      "outputs": [
        {
          "output_type": "display_data",
          "data": {
            "image/png": "[encoded data removed]",
            "text/plain": [
              "<Figure size 432x288 with 1 Axes>"
            ]
          },
          "metadata": {
            "needs_background": "light"
          }
        }
      ]
    },
    {
      "cell_type": "markdown",
      "source": [
        ""
      ],
      "metadata": {
        "id": "lv6zprpnRrxK"
      }
    },
    {
      "cell_type": "code",
      "source": [
        ""
      ],
      "metadata": {
        "id": "ykD-dLJgRrTU"
      },
      "execution_count": null,
      "outputs": []
    }
  ]
}